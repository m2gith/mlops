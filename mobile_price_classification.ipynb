{
 "cells": [
  {
   "cell_type": "code",
   "execution_count": 75,
   "id": "ef5118b0",
   "metadata": {},
   "outputs": [],
   "source": [
    "import os\n",
    "import pandas as pd\n",
    "import numpy as np\n",
    "import matplotlib.pyplot as plt\n",
    "import seaborn as sns\n",
    "import mlflow"
   ]
  },
  {
   "cell_type": "code",
   "execution_count": 44,
   "id": "592dcc05",
   "metadata": {},
   "outputs": [
    {
     "name": "stdout",
     "output_type": "stream",
     "text": [
      "C:\\Users\\Manoj\\anaconda3\\envs\\mlops_env\\python.exe\n"
     ]
    }
   ],
   "source": [
    "import sys\n",
    "print(sys.executable)"
   ]
  },
  {
   "cell_type": "code",
   "execution_count": 45,
   "id": "bb15720c",
   "metadata": {},
   "outputs": [],
   "source": [
    "#define a function to read the data\n",
    "def read_data(path,filename):\n",
    "    df = pd.read_csv(path+filename)\n",
    "    return df"
   ]
  },
  {
   "cell_type": "code",
   "execution_count": 46,
   "id": "2343d998",
   "metadata": {},
   "outputs": [],
   "source": [
    "path = \"C:\\\\Users\\\\Manoj\\\\mlops\\\\data\\\\\""
   ]
  },
  {
   "cell_type": "code",
   "execution_count": 47,
   "id": "14043973",
   "metadata": {},
   "outputs": [
    {
     "data": {
      "text/plain": [
       "'C:\\\\Users\\\\Manoj\\\\mlops\\\\data\\\\train.csv'"
      ]
     },
     "execution_count": 47,
     "metadata": {},
     "output_type": "execute_result"
    }
   ],
   "source": [
    "path+'train.csv'"
   ]
  },
  {
   "cell_type": "code",
   "execution_count": 48,
   "id": "8be9abc1",
   "metadata": {},
   "outputs": [],
   "source": [
    "df_train = read_data(path,'train.csv')"
   ]
  },
  {
   "cell_type": "code",
   "execution_count": 49,
   "id": "2d9afa94",
   "metadata": {},
   "outputs": [],
   "source": [
    "df_test = read_data(path,'test.csv')"
   ]
  },
  {
   "cell_type": "code",
   "execution_count": 50,
   "id": "dd7694b1",
   "metadata": {},
   "outputs": [
    {
     "data": {
      "text/plain": [
       "((2000, 21), (1000, 21))"
      ]
     },
     "execution_count": 50,
     "metadata": {},
     "output_type": "execute_result"
    }
   ],
   "source": [
    "df_train.shape,df_test.shape"
   ]
  },
  {
   "cell_type": "code",
   "execution_count": 51,
   "id": "79349cc3",
   "metadata": {},
   "outputs": [
    {
     "data": {
      "text/plain": [
       "battery_power    0\n",
       "blue             0\n",
       "clock_speed      0\n",
       "dual_sim         0\n",
       "fc               0\n",
       "four_g           0\n",
       "int_memory       0\n",
       "m_dep            0\n",
       "mobile_wt        0\n",
       "n_cores          0\n",
       "pc               0\n",
       "px_height        0\n",
       "px_width         0\n",
       "ram              0\n",
       "sc_h             0\n",
       "sc_w             0\n",
       "talk_time        0\n",
       "three_g          0\n",
       "touch_screen     0\n",
       "wifi             0\n",
       "price_range      0\n",
       "dtype: int64"
      ]
     },
     "execution_count": 51,
     "metadata": {},
     "output_type": "execute_result"
    }
   ],
   "source": [
    "#check for missing values \n",
    "df_train.isnull().sum()"
   ]
  },
  {
   "cell_type": "code",
   "execution_count": 52,
   "id": "bac1b799",
   "metadata": {},
   "outputs": [
    {
     "name": "stdout",
     "output_type": "stream",
     "text": [
      "<class 'pandas.core.frame.DataFrame'>\n",
      "RangeIndex: 2000 entries, 0 to 1999\n",
      "Data columns (total 21 columns):\n",
      " #   Column         Non-Null Count  Dtype  \n",
      "---  ------         --------------  -----  \n",
      " 0   battery_power  2000 non-null   int64  \n",
      " 1   blue           2000 non-null   int64  \n",
      " 2   clock_speed    2000 non-null   float64\n",
      " 3   dual_sim       2000 non-null   int64  \n",
      " 4   fc             2000 non-null   int64  \n",
      " 5   four_g         2000 non-null   int64  \n",
      " 6   int_memory     2000 non-null   int64  \n",
      " 7   m_dep          2000 non-null   float64\n",
      " 8   mobile_wt      2000 non-null   int64  \n",
      " 9   n_cores        2000 non-null   int64  \n",
      " 10  pc             2000 non-null   int64  \n",
      " 11  px_height      2000 non-null   int64  \n",
      " 12  px_width       2000 non-null   int64  \n",
      " 13  ram            2000 non-null   int64  \n",
      " 14  sc_h           2000 non-null   int64  \n",
      " 15  sc_w           2000 non-null   int64  \n",
      " 16  talk_time      2000 non-null   int64  \n",
      " 17  three_g        2000 non-null   int64  \n",
      " 18  touch_screen   2000 non-null   int64  \n",
      " 19  wifi           2000 non-null   int64  \n",
      " 20  price_range    2000 non-null   int64  \n",
      "dtypes: float64(2), int64(19)\n",
      "memory usage: 328.2 KB\n"
     ]
    }
   ],
   "source": [
    "df_train.info()"
   ]
  },
  {
   "cell_type": "code",
   "execution_count": 53,
   "id": "077204bb",
   "metadata": {},
   "outputs": [
    {
     "data": {
      "text/plain": [
       "1    500\n",
       "2    500\n",
       "3    500\n",
       "0    500\n",
       "Name: price_range, dtype: int64"
      ]
     },
     "execution_count": 53,
     "metadata": {},
     "output_type": "execute_result"
    }
   ],
   "source": [
    "df_train['price_range'].value_counts()"
   ]
  },
  {
   "cell_type": "code",
   "execution_count": 57,
   "id": "5618cc51",
   "metadata": {},
   "outputs": [
    {
     "data": {
      "image/png": "[encoded data removed]",
      "text/plain": [
       "<Figure size 640x480 with 1 Axes>"
      ]
     },
     "metadata": {},
     "output_type": "display_data"
    }
   ],
   "source": [
    "#check wheter the data is balance or not?\n",
    "sns.countplot(x = df_train['price_range'],data = df_train)\n",
    "plt.show()"
   ]
  },
  {
   "cell_type": "markdown",
   "id": "c5dbcfa7",
   "metadata": {},
   "source": [
    "- __From the above plot, data is balance__"
   ]
  },
  {
   "cell_type": "code",
   "execution_count": 13,
   "id": "49457679",
   "metadata": {},
   "outputs": [
    {
     "data": {
      "text/plain": [
       "id               0\n",
       "battery_power    0\n",
       "blue             0\n",
       "clock_speed      0\n",
       "dual_sim         0\n",
       "fc               0\n",
       "four_g           0\n",
       "int_memory       0\n",
       "m_dep            0\n",
       "mobile_wt        0\n",
       "n_cores          0\n",
       "pc               0\n",
       "px_height        0\n",
       "px_width         0\n",
       "ram              0\n",
       "sc_h             0\n",
       "sc_w             0\n",
       "talk_time        0\n",
       "three_g          0\n",
       "touch_screen     0\n",
       "wifi             0\n",
       "dtype: int64"
      ]
     },
     "execution_count": 13,
     "metadata": {},
     "output_type": "execute_result"
    }
   ],
   "source": [
    "#check the test data - missing values\n",
    "df_test.isnull().sum()"
   ]
  },
  {
   "cell_type": "code",
   "execution_count": 14,
   "id": "db72f38a",
   "metadata": {},
   "outputs": [
    {
     "name": "stdout",
     "output_type": "stream",
     "text": [
      "shape of train data:  (2000, 21)\n",
      "shape of test data:  (1000, 21)\n"
     ]
    }
   ],
   "source": [
    "#final data matrix\n",
    "print(\"shape of train data: \",df_train.shape)\n",
    "print(\"shape of test data: \",df_test.shape)"
   ]
  },
  {
   "cell_type": "code",
   "execution_count": 15,
   "id": "24d7c470",
   "metadata": {},
   "outputs": [],
   "source": [
    "X =df_train.iloc[:,0:20]"
   ]
  },
  {
   "cell_type": "code",
   "execution_count": 16,
   "id": "c6e10ee7",
   "metadata": {},
   "outputs": [],
   "source": [
    "y = df_train['price_range']"
   ]
  },
  {
   "cell_type": "markdown",
   "id": "9d9fc9d5",
   "metadata": {},
   "source": [
    "- __Split the data into train and test__"
   ]
  },
  {
   "cell_type": "code",
   "execution_count": 58,
   "id": "ea5039f0",
   "metadata": {},
   "outputs": [],
   "source": [
    "def split_data(X,y):\n",
    "    from sklearn.model_selection import train_test_split\n",
    "    X_train, X_test, y_train, y_test = train_test_split(X, y, test_size=0.2,random_state=112)\n",
    "    return X_train, X_test, y_train, y_test"
   ]
  },
  {
   "cell_type": "code",
   "execution_count": 59,
   "id": "f3f29ba2",
   "metadata": {},
   "outputs": [],
   "source": [
    "X_train, X_test, y_train, y_test = split_data(X,y)"
   ]
  },
  {
   "cell_type": "code",
   "execution_count": 60,
   "id": "97011a0c",
   "metadata": {},
   "outputs": [
    {
     "data": {
      "text/plain": [
       "((1600, 20), (400, 20), (1600,), (400,))"
      ]
     },
     "execution_count": 60,
     "metadata": {},
     "output_type": "execute_result"
    }
   ],
   "source": [
    "#check the shape of data\n",
    "X_train.shape, X_test.shape, y_train.shape, y_test.shape"
   ]
  },
  {
   "cell_type": "markdown",
   "id": "989c24b3",
   "metadata": {},
   "source": [
    "- __Model Training using logistic regression__"
   ]
  },
  {
   "cell_type": "code",
   "execution_count": 20,
   "id": "5cfe63a7",
   "metadata": {},
   "outputs": [],
   "source": [
    "from sklearn.linear_model import LogisticRegression"
   ]
  },
  {
   "cell_type": "code",
   "execution_count": 21,
   "id": "ccac5315",
   "metadata": {},
   "outputs": [],
   "source": [
    "#define a function for model train\n",
    "def model_train(X_train,y_train):\n",
    "    from sklearn.linear_model import LogisticRegression\n",
    "    lgr = LogisticRegression(multi_class='ovr', solver='liblinear',C=0.1)\n",
    "    model =lgr.fit(X_train,y_train)\n",
    "    return model"
   ]
  },
  {
   "cell_type": "code",
   "execution_count": 22,
   "id": "9b786b95",
   "metadata": {},
   "outputs": [],
   "source": [
    "#define a function for prediction on test data\n",
    "def prediction(model,X_test):\n",
    "    y_pred = model.predict(X_test)\n",
    "    return y_pred"
   ]
  },
  {
   "cell_type": "code",
   "execution_count": 23,
   "id": "eb488daa",
   "metadata": {},
   "outputs": [],
   "source": [
    "#define a function for prediction on test data\n",
    "def get_probability(model,X_test):\n",
    "    y_prob = model.predict_proba(X_test)\n",
    "    return y_prob"
   ]
  },
  {
   "cell_type": "code",
   "execution_count": 24,
   "id": "719d40b1",
   "metadata": {},
   "outputs": [],
   "source": [
    "#define function for metrics\n",
    "def metrics_report(y_true, y_pred, y_prob):\n",
    "    from sklearn.metrics import accuracy_score,precision_score,recall_score,log_loss\n",
    "    acc = accuracy_score(y_true, y_pred)\n",
    "    prec = precision_score(y_true, y_pred,average='micro')\n",
    "    recall = recall_score(y_true, y_pred,average='micro')\n",
    "    entropy = log_loss(y_true, y_prob)\n",
    "    return {'accuracy': round(acc, 2), 'precision': round(prec, 2), 'recall': round(recall, 2), 'entropy': round(entropy, 2)}"
   ]
  },
  {
   "cell_type": "code",
   "execution_count": 26,
   "id": "6f0abf80",
   "metadata": {},
   "outputs": [],
   "source": [
    "def roc_auc_plot(clf, X_data, y_data):\n",
    "    import matplotlib.pyplot as plt\n",
    "    from sklearn import metrics\n",
    "    metrics.plot_roc_curve(clf, X_data, y_data) \n",
    "    plt.savefig('roc_auc_curve.png')"
   ]
  },
  {
   "cell_type": "code",
   "execution_count": 27,
   "id": "4a298c6b",
   "metadata": {},
   "outputs": [],
   "source": [
    "#ref:https://stackoverflow.com/questions/45332410/roc-for-multiclass-classification\n",
    "\n",
    "def plot_multiclass_roc(clf, X_test, y_test, n_classes, figsize=(17, 6)):\n",
    "    from sklearn.metrics import roc_auc_score,roc_curve,auc\n",
    "    y_score = clf.decision_function(X_test)\n",
    "\n",
    "    # structures\n",
    "    fpr = dict()\n",
    "    tpr = dict()\n",
    "    roc_auc = dict()\n",
    "\n",
    "    # calculate dummies once\n",
    "    y_test_dummies = pd.get_dummies(y_test, drop_first=False).values\n",
    "    for i in range(n_classes):\n",
    "        fpr[i], tpr[i], _ = roc_curve(y_test_dummies[:, i], y_score[:, i])\n",
    "        roc_auc[i] = auc(fpr[i], tpr[i])\n",
    "\n",
    "    # roc for each class\n",
    "    fig, ax = plt.subplots(figsize=figsize)\n",
    "    ax.plot([0, 1], [0, 1], 'k--')\n",
    "    ax.set_xlim([0.0, 1.0])\n",
    "    ax.set_ylim([0.0, 1.05])\n",
    "    ax.set_xlabel('False Positive Rate')\n",
    "    ax.set_ylabel('True Positive Rate')\n",
    "    ax.set_title('Receiver operating characteristic example')\n",
    "    for i in range(n_classes):\n",
    "        ax.plot(fpr[i], tpr[i], label='ROC curve (area = %0.2f) for label %i' % (roc_auc[i], i))\n",
    "    ax.legend(loc=\"best\")\n",
    "    ax.grid(alpha=.4)\n",
    "    sns.despine()\n",
    "    plt.savefig('roc_auc_curve_mulitc.png')\n",
    "    plt.show()"
   ]
  },
  {
   "cell_type": "code",
   "execution_count": 28,
   "id": "b8cd87fc",
   "metadata": {},
   "outputs": [],
   "source": [
    "def confusion_matrix_plot(y_test,y_pred):\n",
    "    from sklearn.metrics import confusion_matrix\n",
    "    sns.heatmap(confusion_matrix(y_test,y_pred),annot=True)\n",
    "    plt.savefig('confusion_matrix_multic.png')\n",
    "    plt.show()"
   ]
  },
  {
   "cell_type": "code",
   "execution_count": 29,
   "id": "2f0e5882",
   "metadata": {},
   "outputs": [],
   "source": [
    "#train  the model\n",
    "model_lr = model_train(X_train,y_train)"
   ]
  },
  {
   "cell_type": "code",
   "execution_count": 30,
   "id": "5c635ba4",
   "metadata": {},
   "outputs": [],
   "source": [
    "y_pred = prediction(model_lr,X_test)"
   ]
  },
  {
   "cell_type": "code",
   "execution_count": 31,
   "id": "60198c6b",
   "metadata": {},
   "outputs": [],
   "source": [
    "y_prob = get_probability(model_lr,X_test)"
   ]
  },
  {
   "cell_type": "code",
   "execution_count": 32,
   "id": "afe3749d",
   "metadata": {},
   "outputs": [
    {
     "data": {
      "text/plain": [
       "array([[1.19158500e-02, 4.40365115e-01, 5.26695243e-01, 2.10237924e-02],\n",
       "       [5.80947072e-02, 5.92030801e-01, 2.84530612e-01, 6.53438801e-02],\n",
       "       [1.82389970e-04, 1.64204190e-01, 5.49815715e-01, 2.85797705e-01],\n",
       "       ...,\n",
       "       [4.25321438e-05, 1.81600264e-01, 3.21498407e-01, 4.96858796e-01],\n",
       "       [6.60666249e-01, 2.72522037e-01, 6.54388304e-02, 1.37288346e-03],\n",
       "       [1.05895121e-07, 9.51138421e-02, 2.40986653e-01, 6.63899399e-01]])"
      ]
     },
     "execution_count": 32,
     "metadata": {},
     "output_type": "execute_result"
    }
   ],
   "source": [
    "y_prob"
   ]
  },
  {
   "cell_type": "code",
   "execution_count": 33,
   "id": "e4d0b11f",
   "metadata": {},
   "outputs": [],
   "source": [
    "def class_metrics_report(y_test,y_pred):\n",
    "    from sklearn.metrics import classification_report\n",
    "    print(classification_report(y_test,y_pred))"
   ]
  },
  {
   "cell_type": "code",
   "execution_count": 34,
   "id": "19af7324",
   "metadata": {},
   "outputs": [
    {
     "name": "stdout",
     "output_type": "stream",
     "text": [
      "              precision    recall  f1-score   support\n",
      "\n",
      "           0       0.80      0.99      0.88        99\n",
      "           1       0.78      0.50      0.61       117\n",
      "           2       0.54      0.44      0.49        98\n",
      "           3       0.67      0.95      0.79        86\n",
      "\n",
      "    accuracy                           0.70       400\n",
      "   macro avg       0.70      0.72      0.69       400\n",
      "weighted avg       0.70      0.70      0.69       400\n",
      "\n"
     ]
    }
   ],
   "source": [
    "class_metrics_report(y_test,y_pred)"
   ]
  },
  {
   "cell_type": "code",
   "execution_count": 35,
   "id": "dfb5bd92",
   "metadata": {},
   "outputs": [
    {
     "data": {
      "text/plain": [
       "{'accuracy': 0.7, 'precision': 0.7, 'recall': 0.7, 'entropy': 0.73}"
      ]
     },
     "execution_count": 35,
     "metadata": {},
     "output_type": "execute_result"
    }
   ],
   "source": [
    "metrics_report(y_test,y_pred,y_prob)"
   ]
  },
  {
   "cell_type": "code",
   "execution_count": 36,
   "id": "c657e45b",
   "metadata": {},
   "outputs": [
    {
     "data": {
      "image/png": "[encoded data removed]",
      "text/plain": [
       "<Figure size 1600x1000 with 1 Axes>"
      ]
     },
     "metadata": {},
     "output_type": "display_data"
    }
   ],
   "source": [
    "plot_multiclass_roc(model_lr, X_test, y_test, n_classes=4, figsize=(16, 10))"
   ]
  },
  {
   "cell_type": "code",
   "execution_count": 37,
   "id": "f01054a4",
   "metadata": {},
   "outputs": [
    {
     "data": {
      "image/png": "[encoded data removed]",
      "text/plain": [
       "<Figure size 640x480 with 2 Axes>"
      ]
     },
     "metadata": {},
     "output_type": "display_data"
    }
   ],
   "source": [
    "confusion_matrix_plot(y_test,y_pred)"
   ]
  },
  {
   "cell_type": "markdown",
   "id": "dd3db529",
   "metadata": {},
   "source": [
    "- __mlflow__"
   ]
  },
  {
   "cell_type": "code",
   "execution_count": 38,
   "id": "4d16f96a",
   "metadata": {},
   "outputs": [
    {
     "name": "stdout",
     "output_type": "stream",
     "text": [
      "{'accuracy': 0.7, 'precision': 0.7, 'recall': 0.7, 'entropy': 0.73}\n"
     ]
    }
   ],
   "source": [
    "experiment_name = \"basic_mobile_price_clf\" ##basic classifier\n",
    "run_name=\"multic_clf\"\n",
    "run_metrics = metrics_report(y_test, y_pred, y_prob)\n",
    "print(run_metrics)"
   ]
  },
  {
   "cell_type": "code",
   "execution_count": 80,
   "id": "0b7539cd",
   "metadata": {},
   "outputs": [],
   "source": [
    "#define the function for mlfow\n",
    "def create_mlflow_exp(experiment_name,run_name, run_metrics,model, confusion_matrix_path = None, \n",
    "                      roc_auc_plot_path = None, run_params=None):\n",
    "    mlflow.set_tracking_uri(\"http://localhost:5000\")\n",
    "    mlflow.set_experiment(experiment_name)\n",
    "    with mlflow.start_run():\n",
    "        if not run_params == None:\n",
    "            for param in run_params:\n",
    "                mlflow.log_param(param, run_params[param])\n",
    "        for metric in run_metrics:\n",
    "            mlflow.log_metric(metric, run_metrics[metric])\n",
    "            \n",
    "        mlflow.sklearn.log_model(model, \"model\")\n",
    "        \n",
    "        if not confusion_matrix_path == None:\n",
    "            mlflow.log_artifact(confusion_matrix_path, 'confusion_matrix_multic')\n",
    "        if not roc_auc_plot_path == None:\n",
    "            mlflow.log_artifact(roc_auc_plot_path, \"roc_auc_curve_mulitc\")\n",
    "        mlflow.set_tag(\"tag1\", \"Logistic Regresssion Multiclass\")\n",
    "    print('Run - %s is logged to Experiment - %s' %(run_name, experiment_name))"
   ]
  },
  {
   "cell_type": "code",
   "execution_count": 81,
   "id": "ad812a00",
   "metadata": {},
   "outputs": [],
   "source": [
    "#get the model params \n",
    "model_params = model_lr.get_params()"
   ]
  },
  {
   "cell_type": "code",
   "execution_count": 83,
   "id": "393d28f3",
   "metadata": {},
   "outputs": [
    {
     "name": "stdout",
     "output_type": "stream",
     "text": [
      "Run - multic_clf is logged to Experiment - basic_mobile_price_clf\n"
     ]
    }
   ],
   "source": [
    "create_mlflow_exp(experiment_name,run_name,run_metrics,model_lr,'confusion_matrix_multic.png','roc_auc_curve_mulitc.png',model_params)"
   ]
  },
  {
   "cell_type": "code",
   "execution_count": 79,
   "id": "b7e2841d",
   "metadata": {},
   "outputs": [
    {
     "name": "stdout",
     "output_type": "stream",
     "text": [
      " Volume in drive C has no label.\n",
      " Volume Serial Number is CCA5-3616\n",
      "\n",
      " Directory of C:\\Users\\Manoj\\mlops\n",
      "\n",
      "23-02-2023  16:24    <DIR>          .\n",
      "23-02-2023  16:24    <DIR>          ..\n",
      "23-02-2023  15:50    <DIR>          .ipynb_checkpoints\n",
      "23-02-2023  15:51            13,778 confusion_matrix_multic.png\n",
      "23-02-2023  12:06    <DIR>          data\n",
      "23-02-2023  16:24    <DIR>          mlruns\n",
      "23-02-2023  16:24           148,866 mobile_price_classification.ipynb\n",
      "23-02-2023  12:19                58 requirements.txt\n",
      "23-02-2023  15:51            76,487 roc_auc_curve_mulitc.png\n",
      "23-02-2023  15:50                72 Untitled.ipynb\n",
      "               5 File(s)        239,261 bytes\n",
      "               5 Dir(s)  62,608,375,808 bytes free\n"
     ]
    }
   ],
   "source": [
    "ls"
   ]
  },
  {
   "cell_type": "code",
   "execution_count": null,
   "id": "89752d8f",
   "metadata": {},
   "outputs": [],
   "source": []
  }
 ],
 "metadata": {
  "kernelspec": {
   "display_name": "Python 3 (ipykernel)",
   "language": "python",
   "name": "python3"
  },
  "language_info": {
   "codemirror_mode": {
    "name": "ipython",
    "version": 3
   },
   "file_extension": ".py",
   "mimetype": "text/x-python",
   "name": "python",
   "nbconvert_exporter": "python",
   "pygments_lexer": "ipython3",
   "version": "3.9.12"
  }
 },
 "nbformat": 4,
 "nbformat_minor": 5
}
